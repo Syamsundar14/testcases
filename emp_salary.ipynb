{
 "cells": [
  {
   "cell_type": "code",
   "execution_count": 3,
   "id": "1f121042",
   "metadata": {},
   "outputs": [
    {
     "data": {
      "text/plain": [
       "<_io.TextIOWrapper name='data/emp12.csv' mode='r' encoding='cp1252'>"
      ]
     },
     "execution_count": 3,
     "metadata": {},
     "output_type": "execute_result"
    }
   ],
   "source": [
    "file=open('data/emp12.csv','r')\n",
    "file"
   ]
  },
  {
   "cell_type": "code",
   "execution_count": 14,
   "id": "835b0b36",
   "metadata": {},
   "outputs": [
    {
     "name": "stdout",
     "output_type": "stream",
     "text": [
      "total salary for Sheethal is 25000\n",
      "DA is...6250.0\n",
      "TZ is...3750.0\n",
      "HRA is...4000.0\n",
      "CCA is...500.0\n",
      "LIC is...1250.0\n",
      "MA is...1250.0\n",
      "net salary for .....Sheethal is 17000.0\n",
      "*********************************************\n",
      "total salary for Sonu is 28000\n",
      "DA is...7000.0\n",
      "TZ is...4200.0\n",
      "HRA is...4480.0\n",
      "CCA is...560.0\n",
      "LIC is...1400.0\n",
      "MA is...1400.0\n",
      "net salary for .....Sonu is 19040.0\n",
      "*********************************************\n",
      "total salary for Sandeep is 100000\n",
      "DA is...25000.0\n",
      "TZ is...15000.0\n",
      "HRA is...16000.0\n",
      "CCA is...2000.0\n",
      "LIC is...5000.0\n",
      "MA is...5000.0\n",
      "net salary for .....Sandeep is 68000.0\n",
      "*********************************************\n",
      "total salary for Manoj is 65000\n",
      "DA is...16250.0\n",
      "TZ is...9750.0\n",
      "HRA is...10400.0\n",
      "CCA is...1300.0\n",
      "LIC is...3250.0\n",
      "MA is...3250.0\n",
      "net salary for .....Manoj is 44200.0\n",
      "*********************************************\n",
      "total salary for Prasanna is 15000\n",
      "DA is...3750.0\n",
      "TZ is...2250.0\n",
      "HRA is...2400.0\n",
      "CCA is...300.0\n",
      "LIC is...750.0\n",
      "MA is...750.0\n",
      "net salary for .....Prasanna is 10200.0\n",
      "*********************************************\n",
      "total salary for Priyanka is 20000\n",
      "DA is...5000.0\n",
      "TZ is...3000.0\n",
      "HRA is...3200.0\n",
      "CCA is...400.0\n",
      "LIC is...1000.0\n",
      "MA is...1000.0\n",
      "net salary for .....Priyanka is 13600.0\n",
      "*********************************************\n",
      "total salary for Shravanthi is 28000\n",
      "DA is...7000.0\n",
      "TZ is...4200.0\n",
      "HRA is...4480.0\n",
      "CCA is...560.0\n",
      "LIC is...1400.0\n",
      "MA is...1400.0\n",
      "net salary for .....Shravanthi is 19040.0\n",
      "*********************************************\n",
      "total salary for Yamini is 19000\n",
      "DA is...4750.0\n",
      "TZ is...2850.0\n",
      "HRA is...3040.0\n",
      "CCA is...380.0\n",
      "LIC is...950.0\n",
      "MA is...950.0\n",
      "net salary for .....Yamini is 12920.0\n",
      "*********************************************\n",
      "total salary for Chaitanya is 25000\n",
      "DA is...6250.0\n",
      "TZ is...3750.0\n",
      "HRA is...4000.0\n",
      "CCA is...500.0\n",
      "LIC is...1250.0\n",
      "MA is...1250.0\n",
      "net salary for .....Chaitanya is 17000.0\n",
      "*********************************************\n",
      "total salary for Leela Krishna is 26000\n",
      "DA is...6500.0\n",
      "TZ is...3900.0\n",
      "HRA is...4160.0\n",
      "CCA is...520.0\n",
      "LIC is...1300.0\n",
      "MA is...1300.0\n",
      "net salary for .....Leela Krishna is 17680.0\n",
      "*********************************************\n",
      "total salary for Mahender is 60000\n",
      "DA is...15000.0\n",
      "TZ is...9000.0\n",
      "HRA is...9600.0\n",
      "CCA is...1200.0\n",
      "LIC is...3000.0\n",
      "MA is...3000.0\n",
      "net salary for .....Mahender is 40800.0\n",
      "*********************************************\n",
      "total salary for Yelishetty Shankar is 100000\n",
      "DA is...25000.0\n",
      "TZ is...15000.0\n",
      "HRA is...16000.0\n",
      "CCA is...2000.0\n",
      "LIC is...5000.0\n",
      "MA is...5000.0\n",
      "net salary for .....Yelishetty Shankar is 68000.0\n",
      "*********************************************\n",
      "total salary for Swapna is 23000\n",
      "DA is...5750.0\n",
      "TZ is...3450.0\n",
      "HRA is...3680.0\n",
      "CCA is...460.0\n",
      "LIC is...1150.0\n",
      "MA is...1150.0\n",
      "net salary for .....Swapna is 15640.0\n",
      "*********************************************\n",
      "total salary for Nikhil is 25000\n",
      "DA is...6250.0\n",
      "TZ is...3750.0\n",
      "HRA is...4000.0\n",
      "CCA is...500.0\n",
      "LIC is...1250.0\n",
      "MA is...1250.0\n",
      "net salary for .....Nikhil is 17000.0\n",
      "*********************************************\n",
      "total salary for Sai Kumar is 30000\n",
      "DA is...7500.0\n",
      "TZ is...4500.0\n",
      "HRA is...4800.0\n",
      "CCA is...600.0\n",
      "LIC is...1500.0\n",
      "MA is...1500.0\n",
      "net salary for .....Sai Kumar is 20400.0\n",
      "*********************************************\n"
     ]
    }
   ],
   "source": [
    "file=open('data/emp12.csv','r')\n",
    "\n",
    "for i in file:\n",
    "    row=i.split(',')\n",
    "    salary=int(row[5])\n",
    "    print('total salary for ' +row[1]+' is '+str(salary))\n",
    "    \n",
    "    DA=salary*0.25\n",
    "    print('DA is...'+str(DA))\n",
    "    \n",
    "    tz=salary*0.15\n",
    "    print('TZ is...'+str(tz))\n",
    "    \n",
    "    HRA=salary*0.16\n",
    "    print('HRA is...'+str(HRA))\n",
    "    \n",
    "    CCA=salary*0.02\n",
    "    print('CCA is...'+str(CCA))\n",
    "    \n",
    "    LIC=salary*0.05\n",
    "    print('LIC is...'+str(LIC))\n",
    "    \n",
    "    MA=salary*0.05\n",
    "    print('MA is...'+str(MA))\n",
    "    \n",
    "    net_sal=DA+MA+CCA+LIC+HRA+tz\n",
    "    print('net salary for .....'+row[1]+ ' is '+str(net_sal))\n",
    "    print('*'*15*3)"
   ]
  },
  {
   "cell_type": "code",
   "execution_count": 15,
   "id": "ea970c78",
   "metadata": {},
   "outputs": [
    {
     "data": {
      "text/plain": [
       "30000"
      ]
     },
     "execution_count": 15,
     "metadata": {},
     "output_type": "execute_result"
    }
   ],
   "source": [
    "salary"
   ]
  },
  {
   "cell_type": "code",
   "execution_count": null,
   "id": "6340f2e7",
   "metadata": {},
   "outputs": [],
   "source": []
  },
  {
   "cell_type": "code",
   "execution_count": null,
   "id": "8096c67e",
   "metadata": {},
   "outputs": [],
   "source": []
  },
  {
   "cell_type": "code",
   "execution_count": null,
   "id": "03d27c2b",
   "metadata": {},
   "outputs": [],
   "source": []
  },
  {
   "cell_type": "code",
   "execution_count": null,
   "id": "8d88b0ea",
   "metadata": {},
   "outputs": [],
   "source": []
  },
  {
   "cell_type": "code",
   "execution_count": null,
   "id": "28b1a3ae",
   "metadata": {},
   "outputs": [],
   "source": []
  },
  {
   "cell_type": "code",
   "execution_count": null,
   "id": "6710150c",
   "metadata": {},
   "outputs": [],
   "source": []
  },
  {
   "cell_type": "code",
   "execution_count": null,
   "id": "02a38a27",
   "metadata": {},
   "outputs": [],
   "source": []
  },
  {
   "cell_type": "code",
   "execution_count": null,
   "id": "558bc132",
   "metadata": {},
   "outputs": [],
   "source": []
  },
  {
   "cell_type": "code",
   "execution_count": null,
   "id": "10c25859",
   "metadata": {},
   "outputs": [],
   "source": []
  },
  {
   "cell_type": "code",
   "execution_count": null,
   "id": "1fff376f",
   "metadata": {},
   "outputs": [],
   "source": []
  },
  {
   "cell_type": "code",
   "execution_count": null,
   "id": "0ba60712",
   "metadata": {},
   "outputs": [],
   "source": []
  },
  {
   "cell_type": "code",
   "execution_count": null,
   "id": "b61afa8a",
   "metadata": {},
   "outputs": [],
   "source": []
  },
  {
   "cell_type": "code",
   "execution_count": null,
   "id": "8b43de9d",
   "metadata": {},
   "outputs": [],
   "source": []
  },
  {
   "cell_type": "code",
   "execution_count": null,
   "id": "c895156c",
   "metadata": {},
   "outputs": [],
   "source": []
  },
  {
   "cell_type": "code",
   "execution_count": null,
   "id": "55ac7821",
   "metadata": {},
   "outputs": [],
   "source": []
  }
 ],
 "metadata": {
  "kernelspec": {
   "display_name": "Python 3 (ipykernel)",
   "language": "python",
   "name": "python3"
  },
  "language_info": {
   "codemirror_mode": {
    "name": "ipython",
    "version": 3
   },
   "file_extension": ".py",
   "mimetype": "text/x-python",
   "name": "python",
   "nbconvert_exporter": "python",
   "pygments_lexer": "ipython3",
   "version": "3.11.4"
  }
 },
 "nbformat": 4,
 "nbformat_minor": 5
}
